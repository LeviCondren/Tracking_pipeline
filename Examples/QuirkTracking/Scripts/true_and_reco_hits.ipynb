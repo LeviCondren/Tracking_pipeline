{
 "cells": [
  {
   "cell_type": "code",
   "execution_count": 1,
   "metadata": {},
   "outputs": [
    {
     "name": "stderr",
     "output_type": "stream",
     "text": [
      "/eos/user/l/lcondren/miniconda3/envs/exatrkx-gpu2/lib/python3.9/site-packages/tqdm/auto.py:21: TqdmWarning: IProgress not found. Please update jupyter and ipywidgets. See https://ipywidgets.readthedocs.io/en/stable/user_install.html\n",
      "  from .autonotebook import tqdm as notebook_tqdm\n"
     ]
    },
    {
     "data": {
      "text/html": [
       "<div class=\"bk-root\">\n",
       "        <a href=\"https://bokeh.org\" target=\"_blank\" class=\"bk-logo bk-logo-small bk-logo-notebook\"></a>\n",
       "        <span id=\"1002\">Loading BokehJS ...</span>\n",
       "    </div>\n"
      ]
     },
     "metadata": {},
     "output_type": "display_data"
    },
    {
     "data": {
      "application/javascript": "(function(root) {\n  function now() {\n    return new Date();\n  }\n\n  const force = true;\n\n  if (typeof root._bokeh_onload_callbacks === \"undefined\" || force === true) {\n    root._bokeh_onload_callbacks = [];\n    root._bokeh_is_loading = undefined;\n  }\n\nconst JS_MIME_TYPE = 'application/javascript';\n  const HTML_MIME_TYPE = 'text/html';\n  const EXEC_MIME_TYPE = 'application/vnd.bokehjs_exec.v0+json';\n  const CLASS_NAME = 'output_bokeh rendered_html';\n\n  /**\n   * Render data to the DOM node\n   */\n  function render(props, node) {\n    const script = document.createElement(\"script\");\n    node.appendChild(script);\n  }\n\n  /**\n   * Handle when an output is cleared or removed\n   */\n  function handleClearOutput(event, handle) {\n    const cell = handle.cell;\n\n    const id = cell.output_area._bokeh_element_id;\n    const server_id = cell.output_area._bokeh_server_id;\n    // Clean up Bokeh references\n    if (id != null && id in Bokeh.index) {\n      Bokeh.index[id].model.document.clear();\n      delete Bokeh.index[id];\n    }\n\n    if (server_id !== undefined) {\n      // Clean up Bokeh references\n      const cmd_clean = \"from bokeh.io.state import curstate; print(curstate().uuid_to_server['\" + server_id + \"'].get_sessions()[0].document.roots[0]._id)\";\n      cell.notebook.kernel.execute(cmd_clean, {\n        iopub: {\n          output: function(msg) {\n            const id = msg.content.text.trim();\n            if (id in Bokeh.index) {\n              Bokeh.index[id].model.document.clear();\n              delete Bokeh.index[id];\n            }\n          }\n        }\n      });\n      // Destroy server and session\n      const cmd_destroy = \"import bokeh.io.notebook as ion; ion.destroy_server('\" + server_id + \"')\";\n      cell.notebook.kernel.execute(cmd_destroy);\n    }\n  }\n\n  /**\n   * Handle when a new output is added\n   */\n  function handleAddOutput(event, handle) {\n    const output_area = handle.output_area;\n    const output = handle.output;\n\n    // limit handleAddOutput to display_data with EXEC_MIME_TYPE content only\n    if ((output.output_type != \"display_data\") || (!Object.prototype.hasOwnProperty.call(output.data, EXEC_MIME_TYPE))) {\n      return\n    }\n\n    const toinsert = output_area.element.find(\".\" + CLASS_NAME.split(' ')[0]);\n\n    if (output.metadata[EXEC_MIME_TYPE][\"id\"] !== undefined) {\n      toinsert[toinsert.length - 1].firstChild.textContent = output.data[JS_MIME_TYPE];\n      // store reference to embed id on output_area\n      output_area._bokeh_element_id = output.metadata[EXEC_MIME_TYPE][\"id\"];\n    }\n    if (output.metadata[EXEC_MIME_TYPE][\"server_id\"] !== undefined) {\n      const bk_div = document.createElement(\"div\");\n      bk_div.innerHTML = output.data[HTML_MIME_TYPE];\n      const script_attrs = bk_div.children[0].attributes;\n      for (let i = 0; i < script_attrs.length; i++) {\n        toinsert[toinsert.length - 1].firstChild.setAttribute(script_attrs[i].name, script_attrs[i].value);\n        toinsert[toinsert.length - 1].firstChild.textContent = bk_div.children[0].textContent\n      }\n      // store reference to server id on output_area\n      output_area._bokeh_server_id = output.metadata[EXEC_MIME_TYPE][\"server_id\"];\n    }\n  }\n\n  function register_renderer(events, OutputArea) {\n\n    function append_mime(data, metadata, element) {\n      // create a DOM node to render to\n      const toinsert = this.create_output_subarea(\n        metadata,\n        CLASS_NAME,\n        EXEC_MIME_TYPE\n      );\n      this.keyboard_manager.register_events(toinsert);\n      // Render to node\n      const props = {data: data, metadata: metadata[EXEC_MIME_TYPE]};\n      render(props, toinsert[toinsert.length - 1]);\n      element.append(toinsert);\n      return toinsert\n    }\n\n    /* Handle when an output is cleared or removed */\n    events.on('clear_output.CodeCell', handleClearOutput);\n    events.on('delete.Cell', handleClearOutput);\n\n    /* Handle when a new output is added */\n    events.on('output_added.OutputArea', handleAddOutput);\n\n    /**\n     * Register the mime type and append_mime function with output_area\n     */\n    OutputArea.prototype.register_mime_type(EXEC_MIME_TYPE, append_mime, {\n      /* Is output safe? */\n      safe: true,\n      /* Index of renderer in `output_area.display_order` */\n      index: 0\n    });\n  }\n\n  // register the mime type if in Jupyter Notebook environment and previously unregistered\n  if (root.Jupyter !== undefined) {\n    const events = require('base/js/events');\n    const OutputArea = require('notebook/js/outputarea').OutputArea;\n\n    if (OutputArea.prototype.mime_types().indexOf(EXEC_MIME_TYPE) == -1) {\n      register_renderer(events, OutputArea);\n    }\n  }\n  if (typeof (root._bokeh_timeout) === \"undefined\" || force === true) {\n    root._bokeh_timeout = Date.now() + 5000;\n    root._bokeh_failed_load = false;\n  }\n\n  const NB_LOAD_WARNING = {'data': {'text/html':\n     \"<div style='background-color: #fdd'>\\n\"+\n     \"<p>\\n\"+\n     \"BokehJS does not appear to have successfully loaded. If loading BokehJS from CDN, this \\n\"+\n     \"may be due to a slow or bad network connection. Possible fixes:\\n\"+\n     \"</p>\\n\"+\n     \"<ul>\\n\"+\n     \"<li>re-rerun `output_notebook()` to attempt to load from CDN again, or</li>\\n\"+\n     \"<li>use INLINE resources instead, as so:</li>\\n\"+\n     \"</ul>\\n\"+\n     \"<code>\\n\"+\n     \"from bokeh.resources import INLINE\\n\"+\n     \"output_notebook(resources=INLINE)\\n\"+\n     \"</code>\\n\"+\n     \"</div>\"}};\n\n  function display_loaded() {\n    const el = document.getElementById(\"1002\");\n    if (el != null) {\n      el.textContent = \"BokehJS is loading...\";\n    }\n    if (root.Bokeh !== undefined) {\n      if (el != null) {\n        el.textContent = \"BokehJS \" + root.Bokeh.version + \" successfully loaded.\";\n      }\n    } else if (Date.now() < root._bokeh_timeout) {\n      setTimeout(display_loaded, 100)\n    }\n  }\n\n  function run_callbacks() {\n    try {\n      root._bokeh_onload_callbacks.forEach(function(callback) {\n        if (callback != null)\n          callback();\n      });\n    } finally {\n      delete root._bokeh_onload_callbacks\n    }\n    console.debug(\"Bokeh: all callbacks have finished\");\n  }\n\n  function load_libs(css_urls, js_urls, callback) {\n    if (css_urls == null) css_urls = [];\n    if (js_urls == null) js_urls = [];\n\n    root._bokeh_onload_callbacks.push(callback);\n    if (root._bokeh_is_loading > 0) {\n      console.debug(\"Bokeh: BokehJS is being loaded, scheduling callback at\", now());\n      return null;\n    }\n    if (js_urls == null || js_urls.length === 0) {\n      run_callbacks();\n      return null;\n    }\n    console.debug(\"Bokeh: BokehJS not loaded, scheduling load and callback at\", now());\n    root._bokeh_is_loading = css_urls.length + js_urls.length;\n\n    function on_load() {\n      root._bokeh_is_loading--;\n      if (root._bokeh_is_loading === 0) {\n        console.debug(\"Bokeh: all BokehJS libraries/stylesheets loaded\");\n        run_callbacks()\n      }\n    }\n\n    function on_error(url) {\n      console.error(\"failed to load \" + url);\n    }\n\n    for (let i = 0; i < css_urls.length; i++) {\n      const url = css_urls[i];\n      const element = document.createElement(\"link\");\n      element.onload = on_load;\n      element.onerror = on_error.bind(null, url);\n      element.rel = \"stylesheet\";\n      element.type = \"text/css\";\n      element.href = url;\n      console.debug(\"Bokeh: injecting link tag for BokehJS stylesheet: \", url);\n      document.body.appendChild(element);\n    }\n\n    for (let i = 0; i < js_urls.length; i++) {\n      const url = js_urls[i];\n      const element = document.createElement('script');\n      element.onload = on_load;\n      element.onerror = on_error.bind(null, url);\n      element.async = false;\n      element.src = url;\n      console.debug(\"Bokeh: injecting script tag for BokehJS library: \", url);\n      document.head.appendChild(element);\n    }\n  };\n\n  function inject_raw_css(css) {\n    const element = document.createElement(\"style\");\n    element.appendChild(document.createTextNode(css));\n    document.body.appendChild(element);\n  }\n\n  const js_urls = [\"https://cdn.bokeh.org/bokeh/release/bokeh-2.4.3.min.js\", \"https://cdn.bokeh.org/bokeh/release/bokeh-gl-2.4.3.min.js\", \"https://cdn.bokeh.org/bokeh/release/bokeh-widgets-2.4.3.min.js\", \"https://cdn.bokeh.org/bokeh/release/bokeh-tables-2.4.3.min.js\", \"https://cdn.bokeh.org/bokeh/release/bokeh-mathjax-2.4.3.min.js\"];\n  const css_urls = [];\n\n  const inline_js = [    function(Bokeh) {\n      Bokeh.set_log_level(\"info\");\n    },\nfunction(Bokeh) {\n    }\n  ];\n\n  function run_inline_js() {\n    if (root.Bokeh !== undefined || force === true) {\n          for (let i = 0; i < inline_js.length; i++) {\n      inline_js[i].call(root, root.Bokeh);\n    }\nif (force === true) {\n        display_loaded();\n      }} else if (Date.now() < root._bokeh_timeout) {\n      setTimeout(run_inline_js, 100);\n    } else if (!root._bokeh_failed_load) {\n      console.log(\"Bokeh: BokehJS failed to load within specified timeout.\");\n      root._bokeh_failed_load = true;\n    } else if (force !== true) {\n      const cell = $(document.getElementById(\"1002\")).parents('.cell').data().cell;\n      cell.output_area.append_execute_result(NB_LOAD_WARNING)\n    }\n  }\n\n  if (root._bokeh_is_loading === 0) {\n    console.debug(\"Bokeh: BokehJS loaded, going straight to plotting\");\n    run_inline_js();\n  } else {\n    load_libs(css_urls, js_urls, function() {\n      console.debug(\"Bokeh: BokehJS plotting callback run at\", now());\n      run_inline_js();\n    });\n  }\n}(window));",
      "application/vnd.bokehjs_load.v0+json": ""
     },
     "metadata": {},
     "output_type": "display_data"
    },
    {
     "name": "stderr",
     "output_type": "stream",
     "text": [
      "usage: 5_Build_Track_Candidates.py [-h] [config]\n",
      "5_Build_Track_Candidates.py: error: unrecognized arguments: --f=/afs/cern.ch/user/l/lcondren/.local/share/jupyter/runtime/kernel-v3c4bf360007616ae05eba66268b03050235460593.json\n"
     ]
    },
    {
     "ename": "SystemExit",
     "evalue": "2",
     "output_type": "error",
     "traceback": [
      "An exception has occurred, use %tb to see the full traceback.\n",
      "\u001b[0;31mSystemExit\u001b[0m\u001b[0;31m:\u001b[0m 2\n"
     ]
    },
    {
     "name": "stderr",
     "output_type": "stream",
     "text": [
      "/eos/user/l/lcondren/miniconda3/envs/exatrkx-gpu2/lib/python3.9/site-packages/IPython/core/interactiveshell.py:3516: UserWarning: To exit: use 'exit', 'quit', or Ctrl-D.\n",
      "  warn(\"To exit: use 'exit', 'quit', or Ctrl-D.\", stacklevel=1)\n"
     ]
    }
   ],
   "source": [
    "\n",
    "import os\n",
    "import yaml\n",
    "import argparse\n",
    "import sys\n",
    "import logging\n",
    "import torch\n",
    "import numpy as np\n",
    "import pandas as pd\n",
    "import matplotlib\n",
    "matplotlib.use('Agg')\n",
    "\n",
    "from tqdm import tqdm\n",
    "\n",
    "from utils.convenience_utils import headline\n",
    "from utils.plotting_utils import plot_pt_eff\n",
    "\n",
    "def parse_args():\n",
    "    \"\"\"Parse command line arguments.\"\"\"\n",
    "    parser = argparse.ArgumentParser(\"5_Build_Track_Candidates.py\")\n",
    "    add_arg = parser.add_argument\n",
    "    add_arg(\"config\", nargs=\"?\", default=\"pipeline_config.yaml\")\n",
    "    return parser.parse_args()\n",
    "\n",
    "def load_reconstruction_df(file):\n",
    "    \"\"\"Load the reconstructed tracks from a file.\"\"\"\n",
    "    graph = torch.load(file, map_location=\"cpu\")\n",
    "    reconstruction_df = pd.DataFrame({\"hit_id\": graph.hid, \"track_id\": graph.labels, \"particle_id\": graph.pid})\n",
    "    return reconstruction_df\n",
    "\n",
    "def load_particles_df(file):\n",
    "    \"\"\"Load the particles from a file.\"\"\"\n",
    "    graph = torch.load(file, map_location=\"cpu\")\n",
    "\n",
    "    # Get the particle dataframe\n",
    "    particles_df = pd.DataFrame({\"particle_id\": graph.pid, \"pt\": graph.pt})\n",
    "\n",
    "    # Reduce to only unique particle_ids\n",
    "    particles_df = particles_df.drop_duplicates(subset=['particle_id'])\n",
    "\n",
    "    return particles_df\n",
    "\n",
    "def get_matching_df(reconstruction_df, particles_df, min_track_length=1, min_particle_length=1):\n",
    "    \n",
    "    # Get track lengths\n",
    "    candidate_lengths = reconstruction_df.track_id.value_counts(sort=False)\\\n",
    "        .reset_index().rename(\n",
    "            columns={\"index\":\"track_id\", \"track_id\": \"n_reco_hits\"})\n",
    "\n",
    "    # Get true track lengths\n",
    "    particle_lengths = reconstruction_df.drop_duplicates(subset=['hit_id']).particle_id.value_counts(sort=False)\\\n",
    "        .reset_index().rename(\n",
    "            columns={\"index\":\"particle_id\", \"particle_id\": \"n_true_hits\"})\n",
    "\n",
    "    spacepoint_matching = reconstruction_df.groupby(['track_id', 'particle_id']).size()\\\n",
    "        .reset_index().rename(columns={0:\"n_shared\"})\n",
    "\n",
    "    spacepoint_matching = spacepoint_matching.merge(candidate_lengths, on=['track_id'], how='left')\n",
    "    spacepoint_matching = spacepoint_matching.merge(particle_lengths, on=['particle_id'], how='left')\n",
    "    spacepoint_matching = spacepoint_matching.merge(particles_df, on=['particle_id'], how='left')\n",
    "\n",
    "    # Filter out tracks with too few shared spacepoints\n",
    "    spacepoint_matching[\"is_matchable\"] = spacepoint_matching.n_reco_hits >= min_track_length\n",
    "    spacepoint_matching[\"is_reconstructable\"] = spacepoint_matching.n_true_hits >= min_particle_length\n",
    "\n",
    "    return spacepoint_matching\n",
    "\n",
    "def calculate_matching_fraction(spacepoint_matching_df):\n",
    "    spacepoint_matching_df = spacepoint_matching_df.assign(\n",
    "        purity_reco=np.true_divide(spacepoint_matching_df.n_shared, spacepoint_matching_df.n_reco_hits))\n",
    "    spacepoint_matching_df = spacepoint_matching_df.assign(\n",
    "        eff_true = np.true_divide(spacepoint_matching_df.n_shared, spacepoint_matching_df.n_true_hits))\n",
    "\n",
    "    return spacepoint_matching_df\n",
    "\n",
    "def evaluate_labelled_graph(graph_file, matching_fraction=0.5, matching_style=\"ATLAS\", min_track_length=1, min_particle_length=1):\n",
    "\n",
    "    if matching_fraction < 0.5:\n",
    "        raise ValueError(\"Matching fraction must be >= 0.5\")\n",
    "\n",
    "    if matching_fraction == 0.5:\n",
    "        # Add a tiny bit of noise to the matching fraction to avoid double-matched tracks\n",
    "        matching_fraction += 0.00001\n",
    "\n",
    "    # Load the labelled graphs as reconstructed dataframes\n",
    "    reconstruction_df = load_reconstruction_df(graph_file)\n",
    "    particles_df = load_particles_df(graph_file)\n",
    "\n",
    "    # Get matching dataframe\n",
    "    matching_df = get_matching_df(reconstruction_df, particles_df, min_track_length=min_track_length, min_particle_length=min_particle_length) \n",
    "    matching_df[\"event_id\"] = int(graph_file.split(\"/\")[-1])\n",
    "\n",
    "    # calculate matching fraction\n",
    "    matching_df = calculate_matching_fraction(matching_df)\n",
    "\n",
    "    # Run matching depending on the matching style\n",
    "    if matching_style == \"ATLAS\":\n",
    "        matching_df[\"is_matched\"] = matching_df[\"is_reconstructed\"] = matching_df.purity_reco >= matching_fraction\n",
    "    elif matching_style == \"one_way\":\n",
    "        matching_df[\"is_matched\"] = matching_df.purity_reco >= matching_fraction\n",
    "        matching_df[\"is_reconstructed\"] = matching_df.eff_true >= matching_fraction\n",
    "    elif matching_style == \"two_way\":\n",
    "        matching_df[\"is_matched\"] = matching_df[\"is_reconstructed\"] = (matching_df.purity_reco >= matching_fraction) & (matching_df.eff_true >= matching_fraction)\n",
    "\n",
    "    return matching_df\n",
    "\n",
    "def evaluate(config_file=\"pipeline_config.yaml\"):\n",
    "\n",
    "    logging.info(headline(\"Step 6: Evaluating the track reconstruction performance\"))\n",
    "\n",
    "    with open(config_file) as file:\n",
    "        all_configs = yaml.load(file, Loader=yaml.FullLoader)\n",
    "\n",
    "    common_configs = all_configs[\"common_configs\"]\n",
    "    track_building_configs = all_configs[\"track_building_configs\"]\n",
    "    evaluation_configs = all_configs[\"evaluation_configs\"]\n",
    "\n",
    "    logging.info(headline(\"a) Loading labelled graphs\"))\n",
    "\n",
    "    input_dir = track_building_configs[\"output_dir\"]\n",
    "    output_dir = evaluation_configs[\"output_dir\"]\n",
    "    os.makedirs(output_dir, exist_ok=True)\n",
    "\n",
    "    all_graph_files = os.listdir(input_dir)\n",
    "    all_graph_files = [os.path.join(input_dir, graph) for graph in all_graph_files]\n",
    "\n",
    "    evaluated_events = []\n",
    "    for graph_file in tqdm(all_graph_files):\n",
    "        evaluated_events.append(evaluate_labelled_graph(graph_file, \n",
    "                                matching_fraction=evaluation_configs[\"matching_fraction\"], \n",
    "                                matching_style=evaluation_configs[\"matching_style\"],\n",
    "                                min_track_length=evaluation_configs[\"min_track_length\"],\n",
    "                                min_particle_length=evaluation_configs[\"min_particle_length\"]))\n",
    "        print(evaluated_events)\n",
    "    evaluated_events = pd.concat(evaluated_events)\n",
    "\n",
    "    particles = evaluated_events[evaluated_events[\"is_reconstructable\"]]\n",
    "\n",
    "    display(particles)\n",
    "\n",
    "args = parse_args()\n",
    "config_file = args.config\n",
    "\n",
    "evaluate(config_file) "
   ]
  },
  {
   "cell_type": "code",
   "execution_count": null,
   "metadata": {},
   "outputs": [],
   "source": []
  }
 ],
 "metadata": {
  "kernelspec": {
   "display_name": "exatrkx-gpu2",
   "language": "python",
   "name": "python3"
  },
  "language_info": {
   "codemirror_mode": {
    "name": "ipython",
    "version": 3
   },
   "file_extension": ".py",
   "mimetype": "text/x-python",
   "name": "python",
   "nbconvert_exporter": "python",
   "pygments_lexer": "ipython3",
   "version": "3.9.15"
  }
 },
 "nbformat": 4,
 "nbformat_minor": 2
}
